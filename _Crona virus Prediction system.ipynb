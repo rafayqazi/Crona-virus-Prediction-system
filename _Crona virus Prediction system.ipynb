{
  "cells": [
    {
      "cell_type": "code",
      "source": [
        "Importing Panda package for Data Science"
      ],
      "outputs": [],
      "execution_count": null,
      "metadata": {
        "collapsed": true,
        "jupyter": {
          "source_hidden": false,
          "outputs_hidden": false
        },
        "nteract": {
          "transient": {
            "deleting": false
          }
        }
      }
    },
    {
      "cell_type": "code",
      "source": [
        "import pandas as pd"
      ],
      "outputs": [],
      "execution_count": 1,
      "metadata": {
        "gather": {
          "logged": 1617650616341
        }
      }
    },
    {
      "cell_type": "code",
      "source": [
        "df=pd.read_csv(\"owid-covid-data.csv\")\r\n",
        "df = df.loc[df[\"location\"].isin([\"India\"])]\r\n"
      ],
      "outputs": [],
      "execution_count": 2,
      "metadata": {
        "collapsed": true,
        "jupyter": {
          "source_hidden": false,
          "outputs_hidden": false
        },
        "nteract": {
          "transient": {
            "deleting": false
          }
        },
        "gather": {
          "logged": 1617649115794
        }
      }
    },
    {
      "cell_type": "code",
      "source": [
        "df"
      ],
      "outputs": [
        {
          "output_type": "execute_result",
          "execution_count": 3,
          "data": {
            "text/plain": "      iso_code continent location        date  total_cases  new_cases  \\\n32444      IND      Asia    India  2020-01-30          1.0        1.0   \n32445      IND      Asia    India  2020-01-31          1.0        0.0   \n32446      IND      Asia    India  2020-02-01          1.0        0.0   \n32447      IND      Asia    India  2020-02-02          2.0        1.0   \n32448      IND      Asia    India  2020-02-03          3.0        1.0   \n...        ...       ...      ...         ...          ...        ...   \n32868      IND      Asia    India  2021-03-29   12095855.0    56211.0   \n32869      IND      Asia    India  2021-03-30   12149335.0    53480.0   \n32870      IND      Asia    India  2021-03-31   12221665.0    72330.0   \n32871      IND      Asia    India  2021-04-01   12303131.0    81466.0   \n32872      IND      Asia    India  2021-04-02   12392260.0    89129.0   \n\n       new_cases_smoothed  total_deaths  new_deaths  new_deaths_smoothed  ...  \\\n32444                 NaN           NaN         NaN                  NaN  ...   \n32445                 NaN           NaN         NaN                  NaN  ...   \n32446                 NaN           NaN         NaN                  NaN  ...   \n32447                 NaN           NaN         NaN                  NaN  ...   \n32448                 NaN           NaN         NaN                  NaN  ...   \n...                   ...           ...         ...                  ...  ...   \n32868           58437.000      162114.0       271.0              278.286  ...   \n32869           59325.286      162468.0       354.0              289.571  ...   \n32870           62018.714      162927.0       459.0              319.286  ...   \n32871           65211.286      163396.0       469.0              349.571  ...   \n32872           69050.000      164110.0       714.0              410.000  ...   \n\n       gdp_per_capita  extreme_poverty  cardiovasc_death_rate  \\\n32444        6426.674             21.2                 282.28   \n32445        6426.674             21.2                 282.28   \n32446        6426.674             21.2                 282.28   \n32447        6426.674             21.2                 282.28   \n32448        6426.674             21.2                 282.28   \n...               ...              ...                    ...   \n32868        6426.674             21.2                 282.28   \n32869        6426.674             21.2                 282.28   \n32870        6426.674             21.2                 282.28   \n32871        6426.674             21.2                 282.28   \n32872        6426.674             21.2                 282.28   \n\n       diabetes_prevalence  female_smokers  male_smokers  \\\n32444                10.39             1.9          20.6   \n32445                10.39             1.9          20.6   \n32446                10.39             1.9          20.6   \n32447                10.39             1.9          20.6   \n32448                10.39             1.9          20.6   \n...                    ...             ...           ...   \n32868                10.39             1.9          20.6   \n32869                10.39             1.9          20.6   \n32870                10.39             1.9          20.6   \n32871                10.39             1.9          20.6   \n32872                10.39             1.9          20.6   \n\n       handwashing_facilities  hospital_beds_per_thousand  life_expectancy  \\\n32444                   59.55                        0.53            69.66   \n32445                   59.55                        0.53            69.66   \n32446                   59.55                        0.53            69.66   \n32447                   59.55                        0.53            69.66   \n32448                   59.55                        0.53            69.66   \n...                       ...                         ...              ...   \n32868                   59.55                        0.53            69.66   \n32869                   59.55                        0.53            69.66   \n32870                   59.55                        0.53            69.66   \n32871                   59.55                        0.53            69.66   \n32872                   59.55                        0.53            69.66   \n\n       human_development_index  \n32444                    0.645  \n32445                    0.645  \n32446                    0.645  \n32447                    0.645  \n32448                    0.645  \n...                        ...  \n32868                    0.645  \n32869                    0.645  \n32870                    0.645  \n32871                    0.645  \n32872                    0.645  \n\n[429 rows x 59 columns]",
            "text/html": "<div>\n<style scoped>\n    .dataframe tbody tr th:only-of-type {\n        vertical-align: middle;\n    }\n\n    .dataframe tbody tr th {\n        vertical-align: top;\n    }\n\n    .dataframe thead th {\n        text-align: right;\n    }\n</style>\n<table border=\"1\" class=\"dataframe\">\n  <thead>\n    <tr style=\"text-align: right;\">\n      <th></th>\n      <th>iso_code</th>\n      <th>continent</th>\n      <th>location</th>\n      <th>date</th>\n      <th>total_cases</th>\n      <th>new_cases</th>\n      <th>new_cases_smoothed</th>\n      <th>total_deaths</th>\n      <th>new_deaths</th>\n      <th>new_deaths_smoothed</th>\n      <th>...</th>\n      <th>gdp_per_capita</th>\n      <th>extreme_poverty</th>\n      <th>cardiovasc_death_rate</th>\n      <th>diabetes_prevalence</th>\n      <th>female_smokers</th>\n      <th>male_smokers</th>\n      <th>handwashing_facilities</th>\n      <th>hospital_beds_per_thousand</th>\n      <th>life_expectancy</th>\n      <th>human_development_index</th>\n    </tr>\n  </thead>\n  <tbody>\n    <tr>\n      <th>32444</th>\n      <td>IND</td>\n      <td>Asia</td>\n      <td>India</td>\n      <td>2020-01-30</td>\n      <td>1.0</td>\n      <td>1.0</td>\n      <td>NaN</td>\n      <td>NaN</td>\n      <td>NaN</td>\n      <td>NaN</td>\n      <td>...</td>\n      <td>6426.674</td>\n      <td>21.2</td>\n      <td>282.28</td>\n      <td>10.39</td>\n      <td>1.9</td>\n      <td>20.6</td>\n      <td>59.55</td>\n      <td>0.53</td>\n      <td>69.66</td>\n      <td>0.645</td>\n    </tr>\n    <tr>\n      <th>32445</th>\n      <td>IND</td>\n      <td>Asia</td>\n      <td>India</td>\n      <td>2020-01-31</td>\n      <td>1.0</td>\n      <td>0.0</td>\n      <td>NaN</td>\n      <td>NaN</td>\n      <td>NaN</td>\n      <td>NaN</td>\n      <td>...</td>\n      <td>6426.674</td>\n      <td>21.2</td>\n      <td>282.28</td>\n      <td>10.39</td>\n      <td>1.9</td>\n      <td>20.6</td>\n      <td>59.55</td>\n      <td>0.53</td>\n      <td>69.66</td>\n      <td>0.645</td>\n    </tr>\n    <tr>\n      <th>32446</th>\n      <td>IND</td>\n      <td>Asia</td>\n      <td>India</td>\n      <td>2020-02-01</td>\n      <td>1.0</td>\n      <td>0.0</td>\n      <td>NaN</td>\n      <td>NaN</td>\n      <td>NaN</td>\n      <td>NaN</td>\n      <td>...</td>\n      <td>6426.674</td>\n      <td>21.2</td>\n      <td>282.28</td>\n      <td>10.39</td>\n      <td>1.9</td>\n      <td>20.6</td>\n      <td>59.55</td>\n      <td>0.53</td>\n      <td>69.66</td>\n      <td>0.645</td>\n    </tr>\n    <tr>\n      <th>32447</th>\n      <td>IND</td>\n      <td>Asia</td>\n      <td>India</td>\n      <td>2020-02-02</td>\n      <td>2.0</td>\n      <td>1.0</td>\n      <td>NaN</td>\n      <td>NaN</td>\n      <td>NaN</td>\n      <td>NaN</td>\n      <td>...</td>\n      <td>6426.674</td>\n      <td>21.2</td>\n      <td>282.28</td>\n      <td>10.39</td>\n      <td>1.9</td>\n      <td>20.6</td>\n      <td>59.55</td>\n      <td>0.53</td>\n      <td>69.66</td>\n      <td>0.645</td>\n    </tr>\n    <tr>\n      <th>32448</th>\n      <td>IND</td>\n      <td>Asia</td>\n      <td>India</td>\n      <td>2020-02-03</td>\n      <td>3.0</td>\n      <td>1.0</td>\n      <td>NaN</td>\n      <td>NaN</td>\n      <td>NaN</td>\n      <td>NaN</td>\n      <td>...</td>\n      <td>6426.674</td>\n      <td>21.2</td>\n      <td>282.28</td>\n      <td>10.39</td>\n      <td>1.9</td>\n      <td>20.6</td>\n      <td>59.55</td>\n      <td>0.53</td>\n      <td>69.66</td>\n      <td>0.645</td>\n    </tr>\n    <tr>\n      <th>...</th>\n      <td>...</td>\n      <td>...</td>\n      <td>...</td>\n      <td>...</td>\n      <td>...</td>\n      <td>...</td>\n      <td>...</td>\n      <td>...</td>\n      <td>...</td>\n      <td>...</td>\n      <td>...</td>\n      <td>...</td>\n      <td>...</td>\n      <td>...</td>\n      <td>...</td>\n      <td>...</td>\n      <td>...</td>\n      <td>...</td>\n      <td>...</td>\n      <td>...</td>\n      <td>...</td>\n    </tr>\n    <tr>\n      <th>32868</th>\n      <td>IND</td>\n      <td>Asia</td>\n      <td>India</td>\n      <td>2021-03-29</td>\n      <td>12095855.0</td>\n      <td>56211.0</td>\n      <td>58437.000</td>\n      <td>162114.0</td>\n      <td>271.0</td>\n      <td>278.286</td>\n      <td>...</td>\n      <td>6426.674</td>\n      <td>21.2</td>\n      <td>282.28</td>\n      <td>10.39</td>\n      <td>1.9</td>\n      <td>20.6</td>\n      <td>59.55</td>\n      <td>0.53</td>\n      <td>69.66</td>\n      <td>0.645</td>\n    </tr>\n    <tr>\n      <th>32869</th>\n      <td>IND</td>\n      <td>Asia</td>\n      <td>India</td>\n      <td>2021-03-30</td>\n      <td>12149335.0</td>\n      <td>53480.0</td>\n      <td>59325.286</td>\n      <td>162468.0</td>\n      <td>354.0</td>\n      <td>289.571</td>\n      <td>...</td>\n      <td>6426.674</td>\n      <td>21.2</td>\n      <td>282.28</td>\n      <td>10.39</td>\n      <td>1.9</td>\n      <td>20.6</td>\n      <td>59.55</td>\n      <td>0.53</td>\n      <td>69.66</td>\n      <td>0.645</td>\n    </tr>\n    <tr>\n      <th>32870</th>\n      <td>IND</td>\n      <td>Asia</td>\n      <td>India</td>\n      <td>2021-03-31</td>\n      <td>12221665.0</td>\n      <td>72330.0</td>\n      <td>62018.714</td>\n      <td>162927.0</td>\n      <td>459.0</td>\n      <td>319.286</td>\n      <td>...</td>\n      <td>6426.674</td>\n      <td>21.2</td>\n      <td>282.28</td>\n      <td>10.39</td>\n      <td>1.9</td>\n      <td>20.6</td>\n      <td>59.55</td>\n      <td>0.53</td>\n      <td>69.66</td>\n      <td>0.645</td>\n    </tr>\n    <tr>\n      <th>32871</th>\n      <td>IND</td>\n      <td>Asia</td>\n      <td>India</td>\n      <td>2021-04-01</td>\n      <td>12303131.0</td>\n      <td>81466.0</td>\n      <td>65211.286</td>\n      <td>163396.0</td>\n      <td>469.0</td>\n      <td>349.571</td>\n      <td>...</td>\n      <td>6426.674</td>\n      <td>21.2</td>\n      <td>282.28</td>\n      <td>10.39</td>\n      <td>1.9</td>\n      <td>20.6</td>\n      <td>59.55</td>\n      <td>0.53</td>\n      <td>69.66</td>\n      <td>0.645</td>\n    </tr>\n    <tr>\n      <th>32872</th>\n      <td>IND</td>\n      <td>Asia</td>\n      <td>India</td>\n      <td>2021-04-02</td>\n      <td>12392260.0</td>\n      <td>89129.0</td>\n      <td>69050.000</td>\n      <td>164110.0</td>\n      <td>714.0</td>\n      <td>410.000</td>\n      <td>...</td>\n      <td>6426.674</td>\n      <td>21.2</td>\n      <td>282.28</td>\n      <td>10.39</td>\n      <td>1.9</td>\n      <td>20.6</td>\n      <td>59.55</td>\n      <td>0.53</td>\n      <td>69.66</td>\n      <td>0.645</td>\n    </tr>\n  </tbody>\n</table>\n<p>429 rows × 59 columns</p>\n</div>"
          },
          "metadata": {}
        }
      ],
      "execution_count": 3,
      "metadata": {
        "collapsed": true,
        "jupyter": {
          "source_hidden": false,
          "outputs_hidden": false
        },
        "nteract": {
          "transient": {
            "deleting": false
          }
        },
        "gather": {
          "logged": 1617649116633
        }
      }
    },
    {
      "cell_type": "code",
      "source": [
        "df.columns"
      ],
      "outputs": [
        {
          "output_type": "execute_result",
          "execution_count": 4,
          "data": {
            "text/plain": "Index(['iso_code', 'continent', 'location', 'date', 'total_cases', 'new_cases',\n       'new_cases_smoothed', 'total_deaths', 'new_deaths',\n       'new_deaths_smoothed', 'total_cases_per_million',\n       'new_cases_per_million', 'new_cases_smoothed_per_million',\n       'total_deaths_per_million', 'new_deaths_per_million',\n       'new_deaths_smoothed_per_million', 'reproduction_rate', 'icu_patients',\n       'icu_patients_per_million', 'hosp_patients',\n       'hosp_patients_per_million', 'weekly_icu_admissions',\n       'weekly_icu_admissions_per_million', 'weekly_hosp_admissions',\n       'weekly_hosp_admissions_per_million', 'new_tests', 'total_tests',\n       'total_tests_per_thousand', 'new_tests_per_thousand',\n       'new_tests_smoothed', 'new_tests_smoothed_per_thousand',\n       'positive_rate', 'tests_per_case', 'tests_units', 'total_vaccinations',\n       'people_vaccinated', 'people_fully_vaccinated', 'new_vaccinations',\n       'new_vaccinations_smoothed', 'total_vaccinations_per_hundred',\n       'people_vaccinated_per_hundred', 'people_fully_vaccinated_per_hundred',\n       'new_vaccinations_smoothed_per_million', 'stringency_index',\n       'population', 'population_density', 'median_age', 'aged_65_older',\n       'aged_70_older', 'gdp_per_capita', 'extreme_poverty',\n       'cardiovasc_death_rate', 'diabetes_prevalence', 'female_smokers',\n       'male_smokers', 'handwashing_facilities', 'hospital_beds_per_thousand',\n       'life_expectancy', 'human_development_index'],\n      dtype='object')"
          },
          "metadata": {}
        }
      ],
      "execution_count": 4,
      "metadata": {
        "collapsed": true,
        "jupyter": {
          "source_hidden": false,
          "outputs_hidden": false
        },
        "nteract": {
          "transient": {
            "deleting": false
          }
        },
        "gather": {
          "logged": 1617649116907
        }
      }
    },
    {
      "cell_type": "code",
      "source": [
        "df=df[[\"location\",\"total_cases\",\"date\"]]\r\n",
        "df.head()"
      ],
      "outputs": [
        {
          "output_type": "execute_result",
          "execution_count": 5,
          "data": {
            "text/plain": "      location  total_cases        date\n32444    India          1.0  2020-01-30\n32445    India          1.0  2020-01-31\n32446    India          1.0  2020-02-01\n32447    India          2.0  2020-02-02\n32448    India          3.0  2020-02-03",
            "text/html": "<div>\n<style scoped>\n    .dataframe tbody tr th:only-of-type {\n        vertical-align: middle;\n    }\n\n    .dataframe tbody tr th {\n        vertical-align: top;\n    }\n\n    .dataframe thead th {\n        text-align: right;\n    }\n</style>\n<table border=\"1\" class=\"dataframe\">\n  <thead>\n    <tr style=\"text-align: right;\">\n      <th></th>\n      <th>location</th>\n      <th>total_cases</th>\n      <th>date</th>\n    </tr>\n  </thead>\n  <tbody>\n    <tr>\n      <th>32444</th>\n      <td>India</td>\n      <td>1.0</td>\n      <td>2020-01-30</td>\n    </tr>\n    <tr>\n      <th>32445</th>\n      <td>India</td>\n      <td>1.0</td>\n      <td>2020-01-31</td>\n    </tr>\n    <tr>\n      <th>32446</th>\n      <td>India</td>\n      <td>1.0</td>\n      <td>2020-02-01</td>\n    </tr>\n    <tr>\n      <th>32447</th>\n      <td>India</td>\n      <td>2.0</td>\n      <td>2020-02-02</td>\n    </tr>\n    <tr>\n      <th>32448</th>\n      <td>India</td>\n      <td>3.0</td>\n      <td>2020-02-03</td>\n    </tr>\n  </tbody>\n</table>\n</div>"
          },
          "metadata": {}
        }
      ],
      "execution_count": 5,
      "metadata": {
        "collapsed": true,
        "jupyter": {
          "source_hidden": false,
          "outputs_hidden": false
        },
        "nteract": {
          "transient": {
            "deleting": false
          }
        },
        "gather": {
          "logged": 1617649117051
        }
      }
    },
    {
      "cell_type": "code",
      "source": [
        "df = df.reset_index()\r\n",
        "df[\"index\"] = df.index\r\n",
        "df\r\n"
      ],
      "outputs": [
        {
          "output_type": "execute_result",
          "execution_count": 6,
          "data": {
            "text/plain": "     index location  total_cases        date\n0        0    India          1.0  2020-01-30\n1        1    India          1.0  2020-01-31\n2        2    India          1.0  2020-02-01\n3        3    India          2.0  2020-02-02\n4        4    India          3.0  2020-02-03\n..     ...      ...          ...         ...\n424    424    India   12095855.0  2021-03-29\n425    425    India   12149335.0  2021-03-30\n426    426    India   12221665.0  2021-03-31\n427    427    India   12303131.0  2021-04-01\n428    428    India   12392260.0  2021-04-02\n\n[429 rows x 4 columns]",
            "text/html": "<div>\n<style scoped>\n    .dataframe tbody tr th:only-of-type {\n        vertical-align: middle;\n    }\n\n    .dataframe tbody tr th {\n        vertical-align: top;\n    }\n\n    .dataframe thead th {\n        text-align: right;\n    }\n</style>\n<table border=\"1\" class=\"dataframe\">\n  <thead>\n    <tr style=\"text-align: right;\">\n      <th></th>\n      <th>index</th>\n      <th>location</th>\n      <th>total_cases</th>\n      <th>date</th>\n    </tr>\n  </thead>\n  <tbody>\n    <tr>\n      <th>0</th>\n      <td>0</td>\n      <td>India</td>\n      <td>1.0</td>\n      <td>2020-01-30</td>\n    </tr>\n    <tr>\n      <th>1</th>\n      <td>1</td>\n      <td>India</td>\n      <td>1.0</td>\n      <td>2020-01-31</td>\n    </tr>\n    <tr>\n      <th>2</th>\n      <td>2</td>\n      <td>India</td>\n      <td>1.0</td>\n      <td>2020-02-01</td>\n    </tr>\n    <tr>\n      <th>3</th>\n      <td>3</td>\n      <td>India</td>\n      <td>2.0</td>\n      <td>2020-02-02</td>\n    </tr>\n    <tr>\n      <th>4</th>\n      <td>4</td>\n      <td>India</td>\n      <td>3.0</td>\n      <td>2020-02-03</td>\n    </tr>\n    <tr>\n      <th>...</th>\n      <td>...</td>\n      <td>...</td>\n      <td>...</td>\n      <td>...</td>\n    </tr>\n    <tr>\n      <th>424</th>\n      <td>424</td>\n      <td>India</td>\n      <td>12095855.0</td>\n      <td>2021-03-29</td>\n    </tr>\n    <tr>\n      <th>425</th>\n      <td>425</td>\n      <td>India</td>\n      <td>12149335.0</td>\n      <td>2021-03-30</td>\n    </tr>\n    <tr>\n      <th>426</th>\n      <td>426</td>\n      <td>India</td>\n      <td>12221665.0</td>\n      <td>2021-03-31</td>\n    </tr>\n    <tr>\n      <th>427</th>\n      <td>427</td>\n      <td>India</td>\n      <td>12303131.0</td>\n      <td>2021-04-01</td>\n    </tr>\n    <tr>\n      <th>428</th>\n      <td>428</td>\n      <td>India</td>\n      <td>12392260.0</td>\n      <td>2021-04-02</td>\n    </tr>\n  </tbody>\n</table>\n<p>429 rows × 4 columns</p>\n</div>"
          },
          "metadata": {}
        }
      ],
      "execution_count": 6,
      "metadata": {
        "collapsed": true,
        "jupyter": {
          "source_hidden": false,
          "outputs_hidden": false
        },
        "nteract": {
          "transient": {
            "deleting": false
          }
        },
        "gather": {
          "logged": 1617649117334
        }
      }
    },
    {
      "cell_type": "code",
      "source": [
        "import matplotlib.pyplot as plt"
      ],
      "outputs": [],
      "execution_count": 7,
      "metadata": {
        "collapsed": true,
        "jupyter": {
          "source_hidden": false,
          "outputs_hidden": false
        },
        "nteract": {
          "transient": {
            "deleting": false
          }
        },
        "gather": {
          "logged": 1617649117529
        }
      }
    },
    {
      "cell_type": "code",
      "source": [
        "plt.plot(df[\"total_cases\"])\r\n",
        "plt.show()"
      ],
      "outputs": [
        {
          "output_type": "display_data",
          "data": {
            "text/plain": "<Figure size 432x288 with 1 Axes>",
            "image/png": "[encoded data removed]"
          },
          "metadata": {
            "needs_background": "light"
          }
        }
      ],
      "execution_count": 8,
      "metadata": {
        "collapsed": true,
        "jupyter": {
          "source_hidden": false,
          "outputs_hidden": false
        },
        "nteract": {
          "transient": {
            "deleting": false
          }
        },
        "gather": {
          "logged": 1617649117856
        }
      }
    },
    {
      "cell_type": "code",
      "source": [
        "from sklearn.preprocessing import PolynomialFeatures\r\n",
        "from sklearn.linear_model import LinearRegression\r\n",
        "import numpy as np"
      ],
      "outputs": [],
      "execution_count": 9,
      "metadata": {
        "collapsed": true,
        "jupyter": {
          "source_hidden": false,
          "outputs_hidden": false
        },
        "nteract": {
          "transient": {
            "deleting": false
          }
        },
        "gather": {
          "logged": 1617649118329
        }
      }
    },
    {
      "cell_type": "code",
      "source": [
        "x=np.array(df[\"index\"]).reshape(-1,1)\r\n",
        "y=np.array(df[\"total_cases\"]).reshape(-1,1)\r\n",
        "poly=PolynomialFeatures(degree=3)\r\n",
        "x=poly.fit_transform(x)\r\n",
        "Linear_reg=LinearRegression()\r\n",
        "Linear_reg.fit(x,y)\r\n",
        "Linear_reg.score(x,y)"
      ],
      "outputs": [
        {
          "output_type": "execute_result",
          "execution_count": 10,
          "data": {
            "text/plain": "0.9868121025394586"
          },
          "metadata": {}
        }
      ],
      "execution_count": 10,
      "metadata": {
        "collapsed": true,
        "jupyter": {
          "source_hidden": false,
          "outputs_hidden": false
        },
        "nteract": {
          "transient": {
            "deleting": false
          }
        },
        "gather": {
          "logged": 1617649118627
        }
      }
    },
    {
      "cell_type": "code",
      "source": [
        "plt.plot(df[\"total_cases\"])\r\n",
        "plt.plot(Linear_reg.predict(x), \"r--\")\r\n",
        "plt.show()"
      ],
      "outputs": [
        {
          "output_type": "display_data",
          "data": {
            "text/plain": "<Figure size 432x288 with 1 Axes>",
            "image/png": "[encoded data removed]"
          },
          "metadata": {
            "needs_background": "light"
          }
        }
      ],
      "execution_count": 11,
      "metadata": {
        "collapsed": true,
        "jupyter": {
          "source_hidden": false,
          "outputs_hidden": false
        },
        "nteract": {
          "transient": {
            "deleting": false
          }
        },
        "gather": {
          "logged": 1617649118823
        }
      }
    },
    {
      "cell_type": "code",
      "source": [
        "Linear_reg.predict(poly.fit_transform([[429]]))"
      ],
      "outputs": [
        {
          "output_type": "execute_result",
          "execution_count": 14,
          "data": {
            "text/plain": "array([[11281698.28368933]])"
          },
          "metadata": {}
        }
      ],
      "execution_count": 14,
      "metadata": {
        "collapsed": true,
        "jupyter": {
          "source_hidden": false,
          "outputs_hidden": false
        },
        "nteract": {
          "transient": {
            "deleting": false
          }
        },
        "gather": {
          "logged": 1617649811230
        }
      }
    },
    {
      "cell_type": "code",
      "source": [],
      "outputs": [],
      "execution_count": null,
      "metadata": {
        "collapsed": true,
        "jupyter": {
          "source_hidden": false,
          "outputs_hidden": false
        },
        "nteract": {
          "transient": {
            "deleting": false
          }
        }
      }
    }
  ],
  "metadata": {
    "kernelspec": {
      "name": "python3-azureml",
      "language": "python",
      "display_name": "Python 3.6 - AzureML"
    },
    "language_info": {
      "name": "python",
      "version": "3.6.9",
      "mimetype": "text/x-python",
      "codemirror_mode": {
        "name": "ipython",
        "version": 3
      },
      "pygments_lexer": "ipython3",
      "nbconvert_exporter": "python",
      "file_extension": ".py"
    },
    "kernel_info": {
      "name": "python3-azureml"
    },
    "microsoft": {
      "host": {
        "AzureML": {
          "notebookHasBeenCompleted": true
        }
      }
    },
    "nteract": {
      "version": "nteract-front-end@1.0.0"
    }
  },
  "nbformat": 4,
  "nbformat_minor": 2
}